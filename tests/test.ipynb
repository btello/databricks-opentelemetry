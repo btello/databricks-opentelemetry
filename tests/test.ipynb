{
 "cells": [
  {
   "cell_type": "code",
   "execution_count": 0,
   "metadata": {
    "application/vnd.databricks.v1+cell": {
     "cellMetadata": {
      "byteLimit": 2048000,
      "rowLimit": 10000
     },
     "inputWidgets": {},
     "nuid": "46723845-553d-4560-98bd-1e28582ca5fb",
     "showTitle": false,
     "title": ""
    }
   },
   "outputs": [],
   "source": [
    "%sh\n",
    "mkdir -p /databricks/otel && \n",
    "wget -P /databricks/otel https://github.com/christophergrant/databricks-opentelemetry/releases/download/0.0.1/databricks-otelcol-amd64.zip "
   ]
  },
  {
   "cell_type": "code",
   "execution_count": 0,
   "metadata": {
    "application/vnd.databricks.v1+cell": {
     "cellMetadata": {
      "byteLimit": 2048000,
      "rowLimit": 10000
     },
     "inputWidgets": {},
     "nuid": "d791cb45-853c-447f-9028-3dd602c6ed7c",
     "showTitle": false,
     "title": ""
    }
   },
   "outputs": [],
   "source": [
    "%sh\n",
    "unzip /databricks/otel/databricks-otelcol-amd64.zip -d /databricks/otel && chmod +x /databricks/otel/databricks-otelcol"
   ]
  },
  {
   "cell_type": "code",
   "execution_count": 0,
   "metadata": {
    "application/vnd.databricks.v1+cell": {
     "cellMetadata": {
      "byteLimit": 2048000,
      "rowLimit": 10000
     },
     "inputWidgets": {},
     "nuid": "2fd373b8-df9a-417f-843c-9a00c981a4cb",
     "showTitle": false,
     "title": ""
    }
   },
   "outputs": [],
   "source": [
    "%sh\n",
    "\n",
    "# Define the output file name\n",
    "CONFIG_FILE=\"otelcol-config.yaml\"\n",
    "\n",
    "# Write the configuration to the file\n",
    "cat << 'EOF' > /databricks/otel/$CONFIG_FILE\n",
    "receivers:\n",
    "  hostmetrics:\n",
    "    collection_interval: 1m\n",
    "    scrapers:\n",
    "      cpu:\n",
    "      memory:\n",
    "      disk:\n",
    "      load:\n",
    "      filesystem:\n",
    "      network:\n",
    "\n",
    "exporters:\n",
    "  prometheus:\n",
    "    endpoint: \"0.0.0.0:9090\"\n",
    "\n",
    "processors:\n",
    "\n",
    "service:\n",
    "  pipelines:\n",
    "    metrics:\n",
    "      receivers: [hostmetrics]\n",
    "      exporters: [prometheus]\n",
    "      processors: []\n",
    "EOF\n",
    "\n",
    "# Print a message indicating completion\n",
    "echo \"Configuration has been written to $CONFIG_FILE\"\n"
   ]
  },
  {
   "cell_type": "code",
   "execution_count": 0,
   "metadata": {
    "application/vnd.databricks.v1+cell": {
     "cellMetadata": {
      "byteLimit": 2048000,
      "rowLimit": 10000
     },
     "inputWidgets": {},
     "nuid": "d1ff3724-179d-4ef5-beaa-2a7c7bb85448",
     "showTitle": false,
     "title": ""
    }
   },
   "outputs": [],
   "source": [
    "%sh\n",
    "nohup /databricks/otel/databricks-otelcol --config /databricks/otel/otelcol-config.yaml > /databricks/otel/otelcol.log 2>&1 &\n"
   ]
  },
  {
   "cell_type": "code",
   "execution_count": 0,
   "metadata": {
    "application/vnd.databricks.v1+cell": {
     "cellMetadata": {
      "byteLimit": 2048000,
      "rowLimit": 10000
     },
     "inputWidgets": {},
     "nuid": "c711a634-a9ed-4809-ad34-4c6e6d545a29",
     "showTitle": false,
     "title": ""
    }
   },
   "outputs": [],
   "source": [
    "import requests\n",
    "import time\n",
    "\n",
    "time.sleep(15)\n",
    "\n",
    "response = requests.get('http://localhost:9090/metrics')\n",
    "response.raise_for_status()\n",
    "\n",
    "num_lines = len(response.text.splitlines())\n",
    "assert num_lines > 10, f\"Expected more than 10 lines, got {num_lines}\""
   ]
  },
  {
   "cell_type": "code",
   "execution_count": 0,
   "metadata": {
    "application/vnd.databricks.v1+cell": {
     "cellMetadata": {},
     "inputWidgets": {},
     "nuid": "1d6fdf2c-e2ff-4d1a-a035-c6bcfb871fb5",
     "showTitle": false,
     "title": ""
    }
   },
   "outputs": [],
   "source": []
  }
 ],
 "metadata": {
  "application/vnd.databricks.v1+notebook": {
   "dashboards": [],
   "language": "python",
   "notebookMetadata": {
    "mostRecentlyExecutedCommandWithImplicitDF": {
     "commandId": 4049278270754295,
     "dataframes": [
      "_sqldf"
     ]
    },
    "pythonIndentUnit": 2
   },
   "notebookName": "testing",
   "widgets": {}
  }
 },
 "nbformat": 4,
 "nbformat_minor": 0
}
